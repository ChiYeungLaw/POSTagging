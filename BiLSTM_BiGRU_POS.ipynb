{
 "cells": [
  {
   "cell_type": "markdown",
   "metadata": {},
   "source": [
    "# POS词性标注（BILSTM和BiGRU）"
   ]
  },
  {
   "cell_type": "markdown",
   "metadata": {},
   "source": [
    "# Load POS data and Preprocessing "
   ]
  },
  {
   "cell_type": "code",
   "execution_count": 164,
   "metadata": {},
   "outputs": [],
   "source": [
    "import torch\n",
    "import numpy as np\n",
    "import torch.nn as nn\n",
    "import matplotlib.pyplot as plt\n",
    "%matplotlib inline\n",
    "device = torch.device('cuda' if torch.cuda.is_available() else 'cpu')"
   ]
  },
  {
   "cell_type": "markdown",
   "metadata": {},
   "source": [
    "## Data Preprocessing Function"
   ]
  },
  {
   "cell_type": "code",
   "execution_count": 85,
   "metadata": {},
   "outputs": [],
   "source": [
    "PAD, UNK = '<pad>', '<unk>'"
   ]
  },
  {
   "cell_type": "markdown",
   "metadata": {},
   "source": [
    "### Data padding function"
   ]
  },
  {
   "cell_type": "code",
   "execution_count": 265,
   "metadata": {},
   "outputs": [],
   "source": [
    "def pad_data(sentences, labels, word2idx):\n",
    "    assert len(sentences)==len(labels)\n",
    "    assert np.all([len(sentence)==len(tags) for sentence, tags in zip(sentences, labels)])\n",
    "    max_len = np.max([len(sentence) for sentence in sentences]) # Find out how much to pad\n",
    "    padded_sentences  = list()\n",
    "    padded_labels  = list()\n",
    "    for sentence, tags in zip(sentences, labels):               # Loop over the data\n",
    "        padded_sentence = [word.lower() if word.lower() in word2idx else UNK for word in sentence]  # Sentence, uses the <UNK> symbol for unknown words\n",
    "        padded_tags = [tag for tag in tags]                       # Tags\n",
    "        padded_sentence += [PAD] * max(max_len - len(padded_sentence), 0)\n",
    "        padded_tags += [PAD] * max(max_len - len(padded_tags), 0)\n",
    "        padded_sentences.append(padded_sentence)                  # Append the processed sample to the output\n",
    "        padded_labels.append(padded_tags)\n",
    "    return padded_sentences, padded_labels"
   ]
  },
  {
   "cell_type": "markdown",
   "metadata": {},
   "source": [
    "### Data encoding function"
   ]
  },
  {
   "cell_type": "code",
   "execution_count": 87,
   "metadata": {},
   "outputs": [],
   "source": [
    "def encode_data(padded_sentences, padded_labels, word2idx, tag2idx, use_cuda):\n",
    "    encoded_sentences = [[word2idx[word] for word in line] for line in padded_sentences]\n",
    "    encoded_labels = [[tag2idx[tag] for tag in line] for line in padded_labels]\n",
    "    if use_cuda:\n",
    "        encoded_sentences = torch.cuda.LongTensor(encoded_sentences)\n",
    "        encoded_labels = torch.cuda.LongTensor(encoded_labels)\n",
    "    else:\n",
    "        encoded_sentences = torch.LongTensor(encoded_sentences)\n",
    "        encoded_labels = torch.LongTensor(encoded_labels)\n",
    "    return encoded_sentences, encoded_labels"
   ]
  },
  {
   "cell_type": "markdown",
   "metadata": {},
   "source": [
    "### Data batchify function"
   ]
  },
  {
   "cell_type": "markdown",
   "metadata": {},
   "source": [
    "We input the whole dataset into the `batchify` function and then this function will generate mini-batch data."
   ]
  },
  {
   "cell_type": "code",
   "execution_count": 274,
   "metadata": {},
   "outputs": [],
   "source": [
    "def batchify(word_data, pos_data, batch_size, word2idx, tag2idx, use_cuda):\n",
    "    num_sent = len(word_data)\n",
    "    num_batch = num_sent // batch_size\n",
    "    for i in range(num_batch):\n",
    "        sents, labels = pad_data(word_data[i*batch_size:(i+1)*batch_size], pos_data[i*batch_size:(i+1)*batch_size],\n",
    "                                 word2idx)\n",
    "        yield encode_data(sents, labels, word2idx, tag2idx, use_cuda)\n",
    "    if num_sent % batch_size:\n",
    "        sents, labels = pad_data(word_data[num_batch*batch_size:], pos_data[num_batch*batch_size:],\n",
    "                                 word2idx)\n",
    "        yield encode_data(sents, labels, word2idx, tag2idx, use_cuda)"
   ]
  },
  {
   "cell_type": "markdown",
   "metadata": {},
   "source": [
    "## Model Evaluation Function"
   ]
  },
  {
   "cell_type": "markdown",
   "metadata": {},
   "source": [
    "We use this function to evaluate our models."
   ]
  },
  {
   "cell_type": "code",
   "execution_count": 131,
   "metadata": {},
   "outputs": [],
   "source": [
    "def eva(model, sentences, tags, word2idx, tag2idx, use_cuda):\n",
    "    total, correct = 0, 0\n",
    "    for sent, tag in zip(sentences, tags):\n",
    "        sent = torch.LongTensor([word2idx[word.lower()] if word.lower() in word2idx else word2idx[UNK] for word in sent])\n",
    "        tag = [tag2idx[t] for t in tag]\n",
    "        if use_cuda:\n",
    "            sent = sent.to('cuda')\n",
    "        pred = model.predict(sent)\n",
    "        if use_cuda:\n",
    "            pred = pred.cpu().numpy()\n",
    "        for i in range(len(tag)):\n",
    "            if tag[i] == pred[i]:\n",
    "                correct += 1\n",
    "            total += 1\n",
    "    return correct / total"
   ]
  },
  {
   "cell_type": "markdown",
   "metadata": {},
   "source": [
    "## Simplified Chinese POS data"
   ]
  },
  {
   "cell_type": "markdown",
   "metadata": {},
   "source": [
    "### Training data reading"
   ]
  },
  {
   "cell_type": "code",
   "execution_count": 284,
   "metadata": {},
   "outputs": [],
   "source": [
    "with open('UDzhPOS/zh_gsdsimp-ud-train.txt', encoding='utf-8') as f:\n",
    "    lines = f.readlines()\n",
    "zh_word_data = []\n",
    "zh_pos_data = []\n",
    "word_sent = []\n",
    "pos_sent = []\n",
    "for line in lines:\n",
    "    if '#' not in line and line != '\\n':\n",
    "        line = line.replace('\\t', ' ').replace('\\n', '').split(' ')\n",
    "        word_sent.append(line[1])\n",
    "        pos_sent.append(line[3])\n",
    "    elif \"sent_id\" in line:\n",
    "        zh_word_data.append(word_sent)\n",
    "        zh_pos_data.append(pos_sent)\n",
    "        word_sent, pos_sent = [], []\n",
    "tmp = []\n",
    "for line in zh_word_data:\n",
    "    if line != []:\n",
    "        tmp.append(line)\n",
    "zh_word_data = tmp\n",
    "tmp = []\n",
    "for line in zh_pos_data:\n",
    "    if line != []:\n",
    "        tmp.append(line)\n",
    "zh_pos_data = tmp"
   ]
  },
  {
   "cell_type": "markdown",
   "metadata": {},
   "source": [
    "### Testing data reading"
   ]
  },
  {
   "cell_type": "code",
   "execution_count": 285,
   "metadata": {},
   "outputs": [],
   "source": [
    "with open('UDzhPOS/zh_gsdsimp-ud-test.txt', encoding='utf-8') as f:\n",
    "    lines = f.readlines()\n",
    "zh_word_test = []\n",
    "zh_pos_test = []\n",
    "word_sent = []\n",
    "pos_sent = []\n",
    "for line in lines:\n",
    "    if '#' not in line and line != '\\n':\n",
    "        line = line.replace('\\t', ' ').replace('\\n', '').split(' ')\n",
    "        word_sent.append(line[1])\n",
    "        pos_sent.append(line[3])\n",
    "    elif \"sent_id\" in line:\n",
    "        zh_word_test.append(word_sent)\n",
    "        zh_pos_test.append(pos_sent)\n",
    "        word_sent, pos_sent = [], []\n",
    "tmp = []\n",
    "for line in zh_word_test:\n",
    "    if line != []:\n",
    "        tmp.append(line)\n",
    "zh_word_test = tmp\n",
    "tmp = []\n",
    "for line in zh_pos_test:\n",
    "    if line != []:\n",
    "        tmp.append(line)\n",
    "zh_pos_test = tmp"
   ]
  },
  {
   "cell_type": "markdown",
   "metadata": {},
   "source": [
    "### Validation data reading"
   ]
  },
  {
   "cell_type": "code",
   "execution_count": 286,
   "metadata": {},
   "outputs": [],
   "source": [
    "with open('UDzhPOS/zh_gsdsimp-ud-dev.txt', encoding='utf-8') as f:\n",
    "    lines = f.readlines()\n",
    "zh_word_dev = []\n",
    "zh_pos_dev = []\n",
    "word_sent = []\n",
    "pos_sent = []\n",
    "for line in lines:\n",
    "    if '#' not in line and line != '\\n':\n",
    "        line = line.replace('\\t', ' ').replace('\\n', '').split(' ')\n",
    "        word_sent.append(line[1])\n",
    "        pos_sent.append(line[3])\n",
    "    elif \"sent_id\" in line:\n",
    "        zh_word_dev.append(word_sent)\n",
    "        zh_pos_dev.append(pos_sent)\n",
    "        word_sent, pos_sent = [], []\n",
    "tmp = []\n",
    "for line in zh_word_dev:\n",
    "    if line != []:\n",
    "        tmp.append(line)\n",
    "zh_word_dev = tmp\n",
    "tmp = []\n",
    "for line in zh_pos_dev:\n",
    "    if line != []:\n",
    "        tmp.append(line)\n",
    "zh_pos_dev = tmp"
   ]
  },
  {
   "cell_type": "markdown",
   "metadata": {},
   "source": [
    "### Data preprocessing"
   ]
  },
  {
   "cell_type": "markdown",
   "metadata": {},
   "source": [
    "Build the word vocabulary and pos tagging vocabulary:"
   ]
  },
  {
   "cell_type": "code",
   "execution_count": 46,
   "metadata": {},
   "outputs": [],
   "source": [
    "zh_voc = list(set([word for line in word_data for word in line])) + [PAD] + [UNK]\n",
    "zh_pos_voc = list(set([tag for line in pos_data for tag in line])) + [PAD] + [UNK]\n",
    "zh_w2i = {word: idx for idx, word in enumerate(zh_voc)}\n",
    "zh_pos2i = {tag: idx for idx, tag in enumerate(zh_pos_voc)}"
   ]
  },
  {
   "cell_type": "markdown",
   "metadata": {},
   "source": [
    "# RNN Model"
   ]
  },
  {
   "cell_type": "code",
   "execution_count": 123,
   "metadata": {},
   "outputs": [],
   "source": [
    "class RNNPOS(nn.Module):\n",
    "    def __init__(self, vocab_size, embedding_dim, hidden_size, num_layers, use_gru,\n",
    "                bidirectional, out_dim, word2idx, dropout_rate=0):\n",
    "        super(RNNPOS, self).__init__()\n",
    "        self.w2i = word2idx\n",
    "        # Embedding layer\n",
    "        self.embed = nn.Embedding(num_embeddings=vocab_size,\n",
    "                                 embedding_dim=embedding_dim,\n",
    "                                 padding_idx=word2idx[PAD])\n",
    "        self.use_gru = use_gru\n",
    "        if use_gru:\n",
    "            # use_gru = True\n",
    "            # we use gru rnn.\n",
    "            self.rnn = nn.GRU(input_size=embedding_dim, hidden_size=hidden_size,\n",
    "                             num_layers=num_layers, bidirectional=bidirectional,\n",
    "                             dropout=dropout_rate)\n",
    "        else:\n",
    "            # use_gru = False\n",
    "            # we use LSTM rnn\n",
    "            self.rnn = nn.LSTM(input_size=embedding_dim, hidden_size=hidden_size,\n",
    "                              num_layers=num_layers, bidirectional=bidirectional,\n",
    "                              dropout=dropout_rate)\n",
    "        self.bi = bidirectional\n",
    "        if self.bi:\n",
    "            self.proj = nn.Linear(2 * hidden_size, out_dim)\n",
    "        else:\n",
    "            self.proj = nn.Linear(hidden_size, out_dim)\n",
    "        self.dropout = nn.Dropout(p=dropout_rate)\n",
    "    \n",
    "    def forward(self, sentences):\n",
    "        \"\"\"\n",
    "        sentences: [batch_size, max_seq_len]\n",
    "        \"\"\"\n",
    "        embed_x = self.embed(sentences).permute(1, 0, 2) # [max_seq_len, batch_size, embed_dim]\n",
    "        lengths = torch.sum(sentences != self.w2i[PAD], dim=-1) # [batch_size]\n",
    "        pack_x = nn.utils.rnn.pack_padded_sequence(embed_x, lengths, enforce_sorted=False)\n",
    "        pack_output, _ = self.rnn(pack_x)\n",
    "        output = nn.utils.rnn.pad_packed_sequence(pack_output)[0] # [seq_len, batch_size, num_directions * hidden_size]\n",
    "        output = self.proj(self.dropout(output)).permute(1, 0, 2) # [batch_size, seq_len, out_dim]\n",
    "        return output\n",
    "    \n",
    "    def compute_loss(self, sentences, tags):\n",
    "        \"\"\"\n",
    "        We use this function to compute the cross entropy loss.\n",
    "        sentences: [batch_size, max_seq_len]\n",
    "        tags: [batch_size, max_seq_len]\n",
    "        \"\"\"\n",
    "        batch_size, seq_len = sentences.shape\n",
    "        # we use sent_mask to cover the padding index.\n",
    "        sent_mask = (sentences != self.w2i[PAD]).contiguous().view(batch_size * seq_len, -1) # [batch_size * seq_len, out_dim]\n",
    "        output = self.forward(sentences) # [batch_size, seq_len, out_dim]\n",
    "        output = output.contiguous().view(batch_size * seq_len, -1) # [batch_size * seq_len, out_dim]\n",
    "        loss = nn.functional.cross_entropy(output, tags.view(-1), reduction='none') * sent_mask.to(torch.float32)\n",
    "        return loss.mean()\n",
    "        \n",
    "    def predict(self, sentence):\n",
    "        \"\"\"\n",
    "        We use this function to predict the tag of sentence.\n",
    "        sentence: [seq_len]\n",
    "        \"\"\"\n",
    "        sentence = sentence.unsqueeze(0) # [1, seq_len]\n",
    "        output = self.forward(sentence).squeeze(0) # [seq_len, out_dim]\n",
    "        tag = torch.argmax(output, dim=-1) # [seq_len]\n",
    "        return tag"
   ]
  },
  {
   "cell_type": "markdown",
   "metadata": {},
   "source": [
    "# Simplified Chinese POS Data Experiment"
   ]
  },
  {
   "cell_type": "markdown",
   "metadata": {},
   "source": [
    "## Hyper-parameters"
   ]
  },
  {
   "cell_type": "code",
   "execution_count": 133,
   "metadata": {},
   "outputs": [],
   "source": [
    "vocab_size = len(zh_voc)\n",
    "embedding_dim = 100\n",
    "hidden_size = 100\n",
    "num_layers = 2\n",
    "learning_rate = 0.001\n",
    "num_epoch = 50\n",
    "batch_size = 32\n",
    "out_dim = len(zh_pos_voc)\n",
    "word2idx = zh_w2i\n",
    "tag2idx = zh_pos2i\n",
    "use_cuda = True"
   ]
  },
  {
   "cell_type": "markdown",
   "metadata": {},
   "source": [
    "## Single Direction GRU Model"
   ]
  },
  {
   "cell_type": "markdown",
   "metadata": {},
   "source": [
    "### Model Config"
   ]
  },
  {
   "cell_type": "code",
   "execution_count": 98,
   "metadata": {},
   "outputs": [],
   "source": [
    "use_gru = True\n",
    "bidirectional = False"
   ]
  },
  {
   "cell_type": "code",
   "execution_count": 135,
   "metadata": {},
   "outputs": [],
   "source": [
    "singleGRU = RNNPOS(vocab_size, embedding_dim, hidden_size, num_layers, use_gru,\n",
    "                    bidirectional, out_dim, word2idx, dropout_rate=0).to(device)\n",
    "optimizer = torch.optim.Adam(singleGRU.parameters(), lr=learning_rate)"
   ]
  },
  {
   "cell_type": "markdown",
   "metadata": {},
   "source": [
    "### Model Traning"
   ]
  },
  {
   "cell_type": "code",
   "execution_count": 136,
   "metadata": {},
   "outputs": [
    {
     "name": "stdout",
     "output_type": "stream",
     "text": [
      "Epoch: 1/50. Total Loss: 123.868. Dev Acc: 55.88%.\n",
      "Epoch: 2/50. Total Loss: 100.481. Dev Acc: 65.85%.\n",
      "Epoch: 3/50. Total Loss: 88.198. Dev Acc: 70.19%.\n",
      "Epoch: 4/50. Total Loss: 78.145. Dev Acc: 72.88%.\n",
      "Epoch: 5/50. Total Loss: 69.236. Dev Acc: 74.80%.\n",
      "Epoch: 6/50. Total Loss: 61.170. Dev Acc: 76.15%.\n",
      "Epoch: 7/50. Total Loss: 53.829. Dev Acc: 76.94%.\n",
      "Epoch: 8/50. Total Loss: 47.185. Dev Acc: 77.46%.\n",
      "Epoch: 9/50. Total Loss: 41.242. Dev Acc: 77.80%.\n",
      "Early Stop!\n"
     ]
    }
   ],
   "source": [
    "best_acc = 0\n",
    "for epoch in range(num_epoch):\n",
    "    total_loss = 0.\n",
    "    for sentences, tags in batchify(zh_word_data, zh_pos_data, batch_size, word2idx, tag2idx, use_cuda):\n",
    "        optimizer.zero_grad()\n",
    "        loss = singleGRU.compute_loss(sentences, tags)\n",
    "        loss.backward()\n",
    "        optimizer.step()\n",
    "        total_loss += loss.item()\n",
    "    dev_acc = eva(singleGRU, zh_word_dev, zh_pos_dev, zh_w2i, zh_pos2i, use_cuda)\n",
    "    if dev_acc >= best_acc:\n",
    "        best_acc = dev_acc\n",
    "        torch.save(singleGRU.state_dict(), 'singleGRU.pt')\n",
    "        print(f\"Epoch: {epoch+1}/{num_epoch}. Total Loss: {total_loss:.3f}. Dev Acc: {dev_acc:.2%}.\")\n",
    "    else:\n",
    "        print(\"Early Stop!\")\n",
    "        break"
   ]
  },
  {
   "cell_type": "markdown",
   "metadata": {},
   "source": [
    "### Model Testing"
   ]
  },
  {
   "cell_type": "code",
   "execution_count": 137,
   "metadata": {},
   "outputs": [
    {
     "name": "stdout",
     "output_type": "stream",
     "text": [
      "Test Set Accuracy: 77.567%\n"
     ]
    }
   ],
   "source": [
    "test_acc = eva(singleGRU, zh_word_test, zh_pos_test, zh_w2i, zh_pos2i, use_cuda)\n",
    "print(f\"Test Set Accuracy: {test_acc:.3%}\")"
   ]
  },
  {
   "cell_type": "markdown",
   "metadata": {},
   "source": [
    "## Bidirectional GRU Model"
   ]
  },
  {
   "cell_type": "markdown",
   "metadata": {},
   "source": [
    "### Model Config"
   ]
  },
  {
   "cell_type": "code",
   "execution_count": 138,
   "metadata": {},
   "outputs": [],
   "source": [
    "use_gru = True\n",
    "bidirectional = True"
   ]
  },
  {
   "cell_type": "code",
   "execution_count": 147,
   "metadata": {},
   "outputs": [],
   "source": [
    "biGRU = RNNPOS(vocab_size, embedding_dim, hidden_size, num_layers, use_gru,\n",
    "               bidirectional, out_dim, word2idx, dropout_rate=0).to(device)\n",
    "optimizer = torch.optim.Adam(biGRU.parameters(), lr=learning_rate)"
   ]
  },
  {
   "cell_type": "markdown",
   "metadata": {},
   "source": [
    "### Module Training"
   ]
  },
  {
   "cell_type": "code",
   "execution_count": 148,
   "metadata": {},
   "outputs": [
    {
     "name": "stdout",
     "output_type": "stream",
     "text": [
      "Epoch: 1/50. Total Loss: 114.259. Dev Acc: 62.17%.\n",
      "Epoch: 2/50. Total Loss: 92.377. Dev Acc: 69.81%.\n",
      "Epoch: 3/50. Total Loss: 80.607. Dev Acc: 73.72%.\n",
      "Epoch: 4/50. Total Loss: 70.808. Dev Acc: 75.65%.\n",
      "Epoch: 5/50. Total Loss: 62.142. Dev Acc: 76.94%.\n",
      "Epoch: 6/50. Total Loss: 54.371. Dev Acc: 77.58%.\n",
      "Epoch: 7/50. Total Loss: 47.460. Dev Acc: 77.95%.\n",
      "Epoch: 8/50. Total Loss: 41.427. Dev Acc: 78.01%.\n",
      "Early Stop!\n"
     ]
    }
   ],
   "source": [
    "best_acc = 0\n",
    "for epoch in range(num_epoch):\n",
    "    total_loss = 0.\n",
    "    for sentences, tags in batchify(zh_word_data, zh_pos_data, batch_size, word2idx, tag2idx, use_cuda):\n",
    "        optimizer.zero_grad()\n",
    "        loss = biGRU.compute_loss(sentences, tags)\n",
    "        loss.backward()\n",
    "        optimizer.step()\n",
    "        total_loss += loss.item()\n",
    "    dev_acc = eva(biGRU, zh_word_dev, zh_pos_dev, zh_w2i, zh_pos2i, use_cuda)\n",
    "    if dev_acc >= best_acc:\n",
    "        best_acc = dev_acc\n",
    "        torch.save(biGRU.state_dict(), 'biGRU.pt')\n",
    "        print(f\"Epoch: {epoch+1}/{num_epoch}. Total Loss: {total_loss:.3f}. Dev Acc: {dev_acc:.2%}.\")\n",
    "    else:\n",
    "        print(\"Early Stop!\")\n",
    "        break"
   ]
  },
  {
   "cell_type": "markdown",
   "metadata": {},
   "source": [
    "### Model Testing"
   ]
  },
  {
   "cell_type": "code",
   "execution_count": 149,
   "metadata": {},
   "outputs": [
    {
     "name": "stdout",
     "output_type": "stream",
     "text": [
      "Test Set Accuracy: 78.117%\n"
     ]
    }
   ],
   "source": [
    "test_acc = eva(biGRU, zh_word_test, zh_pos_test, zh_w2i, zh_pos2i, use_cuda)\n",
    "print(f\"Test Set Accuracy: {test_acc:.3%}\")"
   ]
  },
  {
   "cell_type": "markdown",
   "metadata": {},
   "source": [
    "## Single Direction LSTM Model"
   ]
  },
  {
   "cell_type": "markdown",
   "metadata": {},
   "source": [
    "### Model Config"
   ]
  },
  {
   "cell_type": "code",
   "execution_count": 151,
   "metadata": {},
   "outputs": [],
   "source": [
    "use_gru = False\n",
    "bidirectional = False"
   ]
  },
  {
   "cell_type": "code",
   "execution_count": 152,
   "metadata": {},
   "outputs": [],
   "source": [
    "singleLSTM = RNNPOS(vocab_size, embedding_dim, hidden_size, num_layers, use_gru,\n",
    "                    bidirectional, out_dim, word2idx, dropout_rate=0).to(device)\n",
    "optimizer = torch.optim.Adam(singleLSTM.parameters(), lr=learning_rate)"
   ]
  },
  {
   "cell_type": "markdown",
   "metadata": {},
   "source": [
    "### Model Training"
   ]
  },
  {
   "cell_type": "code",
   "execution_count": 153,
   "metadata": {},
   "outputs": [
    {
     "name": "stdout",
     "output_type": "stream",
     "text": [
      "Epoch: 1/50. Total Loss: 121.429. Dev Acc: 55.48%.\n",
      "Epoch: 2/50. Total Loss: 98.156. Dev Acc: 65.75%.\n",
      "Epoch: 3/50. Total Loss: 85.749. Dev Acc: 70.64%.\n",
      "Epoch: 4/50. Total Loss: 75.736. Dev Acc: 73.52%.\n",
      "Epoch: 5/50. Total Loss: 66.936. Dev Acc: 75.31%.\n",
      "Epoch: 6/50. Total Loss: 59.000. Dev Acc: 76.49%.\n",
      "Epoch: 7/50. Total Loss: 51.806. Dev Acc: 77.26%.\n",
      "Epoch: 8/50. Total Loss: 45.319. Dev Acc: 77.75%.\n",
      "Epoch: 9/50. Total Loss: 39.530. Dev Acc: 77.78%.\n",
      "Early Stop!\n"
     ]
    }
   ],
   "source": [
    "best_acc = 0\n",
    "for epoch in range(num_epoch):\n",
    "    total_loss = 0.\n",
    "    for sentences, tags in batchify(zh_word_data, zh_pos_data, batch_size, word2idx, tag2idx, use_cuda):\n",
    "        optimizer.zero_grad()\n",
    "        loss = singleLSTM.compute_loss(sentences, tags)\n",
    "        loss.backward()\n",
    "        optimizer.step()\n",
    "        total_loss += loss.item()\n",
    "    dev_acc = eva(singleLSTM, zh_word_dev, zh_pos_dev, zh_w2i, zh_pos2i, use_cuda)\n",
    "    if dev_acc >= best_acc:\n",
    "        best_acc = dev_acc\n",
    "        torch.save(singleLSTM.state_dict(), 'singleLSTM.pt')\n",
    "        print(f\"Epoch: {epoch+1}/{num_epoch}. Total Loss: {total_loss:.3f}. Dev Acc: {dev_acc:.2%}.\")\n",
    "    else:\n",
    "        print(\"Early Stop!\")\n",
    "        break"
   ]
  },
  {
   "cell_type": "markdown",
   "metadata": {},
   "source": [
    "### Model Testing"
   ]
  },
  {
   "cell_type": "code",
   "execution_count": 154,
   "metadata": {},
   "outputs": [
    {
     "name": "stdout",
     "output_type": "stream",
     "text": [
      "Test Set Accuracy: 77.458%\n"
     ]
    }
   ],
   "source": [
    "test_acc = eva(singleLSTM, zh_word_test, zh_pos_test, zh_w2i, zh_pos2i, use_cuda)\n",
    "print(f\"Test Set Accuracy: {test_acc:.3%}\")"
   ]
  },
  {
   "cell_type": "markdown",
   "metadata": {},
   "source": [
    "## Bidirectional LSTM Model"
   ]
  },
  {
   "cell_type": "markdown",
   "metadata": {},
   "source": [
    "### Model Config"
   ]
  },
  {
   "cell_type": "code",
   "execution_count": 155,
   "metadata": {},
   "outputs": [],
   "source": [
    "use_gru = False\n",
    "bidirectional = True"
   ]
  },
  {
   "cell_type": "code",
   "execution_count": 156,
   "metadata": {},
   "outputs": [],
   "source": [
    "biLSTM = RNNPOS(vocab_size, embedding_dim, hidden_size, num_layers, use_gru,\n",
    "               bidirectional, out_dim, word2idx, dropout_rate=0).to(device)\n",
    "optimizer = torch.optim.Adam(biLSTM.parameters(), lr=learning_rate)"
   ]
  },
  {
   "cell_type": "markdown",
   "metadata": {},
   "source": [
    "### Model Training"
   ]
  },
  {
   "cell_type": "code",
   "execution_count": 157,
   "metadata": {},
   "outputs": [
    {
     "name": "stdout",
     "output_type": "stream",
     "text": [
      "Epoch: 1/50. Total Loss: 118.636. Dev Acc: 57.82%.\n",
      "Epoch: 2/50. Total Loss: 93.972. Dev Acc: 68.43%.\n",
      "Epoch: 3/50. Total Loss: 81.003. Dev Acc: 73.35%.\n",
      "Epoch: 4/50. Total Loss: 70.841. Dev Acc: 75.77%.\n",
      "Epoch: 5/50. Total Loss: 62.059. Dev Acc: 77.21%.\n",
      "Epoch: 6/50. Total Loss: 54.311. Dev Acc: 78.02%.\n",
      "Epoch: 7/50. Total Loss: 47.581. Dev Acc: 78.07%.\n",
      "Epoch: 8/50. Total Loss: 41.453. Dev Acc: 78.26%.\n",
      "Epoch: 9/50. Total Loss: 36.127. Dev Acc: 78.93%.\n",
      "Early Stop!\n"
     ]
    }
   ],
   "source": [
    "best_acc = 0\n",
    "for epoch in range(num_epoch):\n",
    "    total_loss = 0.\n",
    "    for sentences, tags in batchify(zh_word_data, zh_pos_data, batch_size, word2idx, tag2idx, use_cuda):\n",
    "        optimizer.zero_grad()\n",
    "        loss = biLSTM.compute_loss(sentences, tags)\n",
    "        loss.backward()\n",
    "        optimizer.step()\n",
    "        total_loss += loss.item()\n",
    "    dev_acc = eva(biLSTM, zh_word_dev, zh_pos_dev, zh_w2i, zh_pos2i, use_cuda)\n",
    "    if dev_acc >= best_acc:\n",
    "        best_acc = dev_acc\n",
    "        torch.save(biLSTM.state_dict(), 'biLSTM.pt')\n",
    "        print(f\"Epoch: {epoch+1}/{num_epoch}. Total Loss: {total_loss:.3f}. Dev Acc: {dev_acc:.2%}.\")\n",
    "    else:\n",
    "        print(\"Early Stop!\")\n",
    "        break"
   ]
  },
  {
   "cell_type": "markdown",
   "metadata": {},
   "source": [
    "### Model Testing"
   ]
  },
  {
   "cell_type": "code",
   "execution_count": 158,
   "metadata": {},
   "outputs": [
    {
     "name": "stdout",
     "output_type": "stream",
     "text": [
      "Test Set Accuracy: 79.043%\n"
     ]
    }
   ],
   "source": [
    "test_acc = eva(biLSTM, zh_word_test, zh_pos_test, zh_w2i, zh_pos2i, use_cuda)\n",
    "print(f\"Test Set Accuracy: {test_acc:.3%}\")"
   ]
  },
  {
   "cell_type": "markdown",
   "metadata": {},
   "source": [
    "## Model Comparasion"
   ]
  },
  {
   "cell_type": "markdown",
   "metadata": {},
   "source": [
    "In section 3.2~3.5, we train 4 different models, including single direction GRU, bidirectional GRU, single direction LSTM and bidirectional LSTM. From the table below, we can find that bidirectional LSTM model is the best model."
   ]
  },
  {
   "cell_type": "code",
   "execution_count": 159,
   "metadata": {},
   "outputs": [
    {
     "data": {
      "text/html": [
       "<div>\n",
       "<style scoped>\n",
       "    .dataframe tbody tr th:only-of-type {\n",
       "        vertical-align: middle;\n",
       "    }\n",
       "\n",
       "    .dataframe tbody tr th {\n",
       "        vertical-align: top;\n",
       "    }\n",
       "\n",
       "    .dataframe thead th {\n",
       "        text-align: right;\n",
       "    }\n",
       "</style>\n",
       "<table border=\"1\" class=\"dataframe\">\n",
       "  <thead>\n",
       "    <tr style=\"text-align: right;\">\n",
       "      <th></th>\n",
       "      <th>test acc</th>\n",
       "    </tr>\n",
       "  </thead>\n",
       "  <tbody>\n",
       "    <tr>\n",
       "      <th>singleGRU</th>\n",
       "      <td>0.77567</td>\n",
       "    </tr>\n",
       "    <tr>\n",
       "      <th>biGRU</th>\n",
       "      <td>0.78117</td>\n",
       "    </tr>\n",
       "    <tr>\n",
       "      <th>singleLSTM</th>\n",
       "      <td>0.77458</td>\n",
       "    </tr>\n",
       "    <tr>\n",
       "      <th>biLSTM</th>\n",
       "      <td>0.79043</td>\n",
       "    </tr>\n",
       "  </tbody>\n",
       "</table>\n",
       "</div>"
      ],
      "text/plain": [
       "            test acc\n",
       "singleGRU    0.77567\n",
       "biGRU        0.78117\n",
       "singleLSTM   0.77458\n",
       "biLSTM       0.79043"
      ]
     },
     "execution_count": 159,
     "metadata": {},
     "output_type": "execute_result"
    }
   ],
   "source": [
    "import pandas as pd\n",
    "pd.DataFrame([0.77567, 0.78117, 0.77458, 0.79043], index = ['singleGRU', 'biGRU', 'singleLSTM', 'biLSTM'], columns=['test acc'])"
   ]
  },
  {
   "cell_type": "markdown",
   "metadata": {},
   "source": [
    "## Dropout"
   ]
  },
  {
   "cell_type": "markdown",
   "metadata": {},
   "source": [
    "We use biLSTM model with different dropout value to find the effect of dropout."
   ]
  },
  {
   "cell_type": "code",
   "execution_count": 161,
   "metadata": {},
   "outputs": [],
   "source": [
    "use_gru = False\n",
    "bidirectional = True"
   ]
  },
  {
   "cell_type": "code",
   "execution_count": 170,
   "metadata": {},
   "outputs": [
    {
     "name": "stdout",
     "output_type": "stream",
     "text": [
      "Begin Training!\n",
      "Finish!\n"
     ]
    }
   ],
   "source": [
    "print(\"Begin Training!\")\n",
    "dropout_rate = [0, 0.2, 0.4, 0.6, 0.8]\n",
    "test_acc_list = []\n",
    "for dp in dropout_rate:\n",
    "    biLSTM = RNNPOS(vocab_size, embedding_dim, hidden_size, num_layers, use_gru,\n",
    "               bidirectional, out_dim, word2idx, dropout_rate=dp).to(device)\n",
    "    optimizer = torch.optim.Adam(biLSTM.parameters(), lr=learning_rate)\n",
    "    # Model Training\n",
    "    best_acc = 0.\n",
    "    for epoch in range(num_epoch):\n",
    "        total_loss = 0.\n",
    "        for sentences, tags in batchify(zh_word_data, zh_pos_data, batch_size, word2idx, tag2idx, use_cuda):\n",
    "            optimizer.zero_grad()\n",
    "            loss = biLSTM.compute_loss(sentences, tags)\n",
    "            loss.backward()\n",
    "            optimizer.step()\n",
    "            total_loss += loss.item()\n",
    "        dev_acc = eva(biLSTM, zh_word_dev, zh_pos_dev, zh_w2i, zh_pos2i, use_cuda)\n",
    "        if dev_acc >= best_acc:\n",
    "            best_acc = dev_acc\n",
    "        else:\n",
    "            break\n",
    "    \n",
    "    # Model evaluation\n",
    "    test_acc = eva(biLSTM, zh_word_test, zh_pos_test, zh_w2i, zh_pos2i, use_cuda)\n",
    "    test_acc_list.append(test_acc)\n",
    "print(\"Finish!\")"
   ]
  },
  {
   "cell_type": "code",
   "execution_count": 173,
   "metadata": {},
   "outputs": [
    {
     "data": {
      "image/png": "[encoded data removed]",
      "text/plain": [
       "<Figure size 432x288 with 1 Axes>"
      ]
     },
     "metadata": {},
     "output_type": "display_data"
    }
   ],
   "source": [
    "plt.plot(dropout_rate, test_acc_list, marker='s')\n",
    "plt.xlabel('dropout rate')\n",
    "plt.ylabel('test acc')\n",
    "plt.show()"
   ]
  },
  {
   "cell_type": "markdown",
   "metadata": {},
   "source": [
    "From the graph above, we can find that when `dropout_rate = 0.2`, biLSTM model has the highest accuracy."
   ]
  },
  {
   "cell_type": "markdown",
   "metadata": {},
   "source": [
    "# Other Language POS Data Experiment"
   ]
  },
  {
   "cell_type": "markdown",
   "metadata": {},
   "source": [
    "We test the biLSTM model in 4 other different languages, including English, Japanese, Korean and Portuguese."
   ]
  },
  {
   "cell_type": "markdown",
   "metadata": {},
   "source": [
    "## English POS Data Experiment"
   ]
  },
  {
   "cell_type": "markdown",
   "metadata": {},
   "source": [
    "### English POS Data Loading"
   ]
  },
  {
   "cell_type": "markdown",
   "metadata": {},
   "source": [
    "Training data:"
   ]
  },
  {
   "cell_type": "code",
   "execution_count": 206,
   "metadata": {},
   "outputs": [],
   "source": [
    "with open('UDenPOS/en_ewt-ud-train.txt', encoding='utf-8') as f:\n",
    "    lines = f.readlines()\n",
    "en_word_data = []\n",
    "en_pos_data = []\n",
    "word_sent = []\n",
    "pos_sent = []\n",
    "for line in lines:\n",
    "    if '#' not in line and line != '\\n':\n",
    "        line = line.replace('\\t', ' ').replace('\\n', '').split(' ')\n",
    "        word_sent.append(line[1])\n",
    "        pos_sent.append(line[3])\n",
    "    elif \"sent_id\" in line:\n",
    "        en_word_data.append(word_sent)\n",
    "        en_pos_data.append(pos_sent)\n",
    "        word_sent, pos_sent = [], []\n",
    "tmp = []\n",
    "for line in en_word_data:\n",
    "    if line != []:\n",
    "        tmp.append(line)\n",
    "en_word_data = tmp\n",
    "tmp = []\n",
    "for line in en_pos_data:\n",
    "    if line != []:\n",
    "        tmp.append(line)\n",
    "en_pos_data = tmp"
   ]
  },
  {
   "cell_type": "markdown",
   "metadata": {},
   "source": [
    "Testing data:"
   ]
  },
  {
   "cell_type": "code",
   "execution_count": 210,
   "metadata": {},
   "outputs": [],
   "source": [
    "with open('UDenPOS/en_ewt-ud-test.txt', encoding='utf-8') as f:\n",
    "    lines = f.readlines()\n",
    "en_word_test = []\n",
    "en_pos_test = []\n",
    "word_sent = []\n",
    "pos_sent = []\n",
    "for line in lines:\n",
    "    if '#' not in line and line != '\\n':\n",
    "        line = line.replace('\\t', ' ').replace('\\n', '').split(' ')\n",
    "        word_sent.append(line[1])\n",
    "        pos_sent.append(line[3])\n",
    "    elif \"sent_id\" in line:\n",
    "        en_word_test.append(word_sent)\n",
    "        en_pos_test.append(pos_sent)\n",
    "        word_sent, pos_sent = [], []\n",
    "tmp = []\n",
    "for line in en_word_test:\n",
    "    if line != []:\n",
    "        tmp.append(line)\n",
    "en_word_test = tmp\n",
    "tmp = []\n",
    "for line in en_pos_test:\n",
    "    if line != []:\n",
    "        tmp.append(line)\n",
    "en_pos_test = tmp"
   ]
  },
  {
   "cell_type": "markdown",
   "metadata": {},
   "source": [
    "Validation data:"
   ]
  },
  {
   "cell_type": "code",
   "execution_count": 211,
   "metadata": {},
   "outputs": [],
   "source": [
    "with open('UDenPOS/en_ewt-ud-dev.txt', encoding='utf-8') as f:\n",
    "    lines = f.readlines()\n",
    "en_word_dev = []\n",
    "en_pos_dev = []\n",
    "word_sent = []\n",
    "pos_sent = []\n",
    "for line in lines:\n",
    "    if '#' not in line and line != '\\n':\n",
    "        line = line.replace('\\t', ' ').replace('\\n', '').split(' ')\n",
    "        word_sent.append(line[1])\n",
    "        pos_sent.append(line[3])\n",
    "    elif \"sent_id\" in line:\n",
    "        en_word_dev.append(word_sent)\n",
    "        en_pos_dev.append(pos_sent)\n",
    "        word_sent, pos_sent = [], []\n",
    "tmp = []\n",
    "for line in en_word_dev:\n",
    "    if line != []:\n",
    "        tmp.append(line)\n",
    "en_word_dev = tmp\n",
    "tmp = []\n",
    "for line in en_pos_dev:\n",
    "    if line != []:\n",
    "        tmp.append(line)\n",
    "en_pos_dev = tmp"
   ]
  },
  {
   "cell_type": "markdown",
   "metadata": {},
   "source": [
    "Vocabulary:"
   ]
  },
  {
   "cell_type": "code",
   "execution_count": 214,
   "metadata": {},
   "outputs": [],
   "source": [
    "en_voc = list(set([word for line in en_word_data for word in line])) + [PAD] + [UNK]\n",
    "en_pos_voc = list(set([tag for line in en_pos_data for tag in line])) + [PAD] + [UNK]\n",
    "en_w2i = {word: idx for idx, word in enumerate(en_voc)}\n",
    "en_pos2i = {tag: idx for idx, tag in enumerate(en_pos_voc)}"
   ]
  },
  {
   "cell_type": "markdown",
   "metadata": {},
   "source": [
    "### Model Training"
   ]
  },
  {
   "cell_type": "code",
   "execution_count": 217,
   "metadata": {},
   "outputs": [],
   "source": [
    "# Hyperparameter\n",
    "embedding_dim = 100\n",
    "hidden_size = 100\n",
    "num_layers = 2\n",
    "learning_rate = 0.001\n",
    "num_epoch = 50\n",
    "batch_size = 32\n",
    "use_cuda = True\n",
    "word2idx = en_w2i\n",
    "tag2idx = en_pos2i\n",
    "vocab_size = len(en_voc)\n",
    "out_dim = len(en_pos_voc)"
   ]
  },
  {
   "cell_type": "code",
   "execution_count": 216,
   "metadata": {},
   "outputs": [
    {
     "name": "stdout",
     "output_type": "stream",
     "text": [
      "Epoch: 1/50. Total Loss: 275.552. Dev Acc: 79.83%.\n",
      "Epoch: 2/50. Total Loss: 185.352. Dev Acc: 84.63%.\n",
      "Epoch: 3/50. Total Loss: 130.085. Dev Acc: 86.60%.\n",
      "Epoch: 4/50. Total Loss: 89.610. Dev Acc: 87.30%.\n",
      "Epoch: 5/50. Total Loss: 61.671. Dev Acc: 87.60%.\n",
      "Epoch: 6/50. Total Loss: 43.304. Dev Acc: 87.93%.\n",
      "Epoch: 7/50. Total Loss: 31.246. Dev Acc: 88.26%.\n",
      "Epoch: 8/50. Total Loss: 23.186. Dev Acc: 88.39%.\n",
      "Epoch: 9/50. Total Loss: 17.546. Dev Acc: 88.81%.\n",
      "Early Stop!\n"
     ]
    }
   ],
   "source": [
    "biLSTM = RNNPOS(vocab_size, embedding_dim, hidden_size, num_layers, False,\n",
    "               True, out_dim, word2idx, dropout_rate=0.2).to(device)\n",
    "optimizer = torch.optim.Adam(biLSTM.parameters(), lr=learning_rate)\n",
    "best_acc = 0\n",
    "for epoch in range(num_epoch):\n",
    "    total_loss = 0.\n",
    "    for sentences, tags in batchify(en_word_data, en_pos_data, batch_size, word2idx, tag2idx, use_cuda):\n",
    "        optimizer.zero_grad()\n",
    "        loss = biLSTM.compute_loss(sentences, tags)\n",
    "        loss.backward()\n",
    "        optimizer.step()\n",
    "        total_loss += loss.item()\n",
    "    dev_acc = eva(biLSTM, en_word_dev, en_pos_dev, en_w2i, en_pos2i, use_cuda)\n",
    "    if dev_acc >= best_acc:\n",
    "        best_acc = dev_acc\n",
    "        torch.save(biLSTM.state_dict(), 'enbiLSTM.pt')\n",
    "        print(f\"Epoch: {epoch+1}/{num_epoch}. Total Loss: {total_loss:.3f}. Dev Acc: {dev_acc:.2%}.\")\n",
    "    else:\n",
    "        print(\"Early Stop!\")\n",
    "        break"
   ]
  },
  {
   "cell_type": "markdown",
   "metadata": {},
   "source": [
    "### Model Testing"
   ]
  },
  {
   "cell_type": "code",
   "execution_count": 218,
   "metadata": {},
   "outputs": [
    {
     "name": "stdout",
     "output_type": "stream",
     "text": [
      "Test Set Accuracy: 89.013%\n"
     ]
    }
   ],
   "source": [
    "test_acc = eva(biLSTM, en_word_test, en_pos_test, en_w2i, en_pos2i, use_cuda)\n",
    "print(f\"Test Set Accuracy: {test_acc:.3%}\")"
   ]
  },
  {
   "cell_type": "markdown",
   "metadata": {},
   "source": [
    "## Japanese POS Data Experiment"
   ]
  },
  {
   "cell_type": "markdown",
   "metadata": {},
   "source": [
    "### Japanese POS Data Loading"
   ]
  },
  {
   "cell_type": "markdown",
   "metadata": {},
   "source": [
    "Training data:"
   ]
  },
  {
   "cell_type": "code",
   "execution_count": 232,
   "metadata": {},
   "outputs": [],
   "source": [
    "with open('UDjaPOS/ja_gsd-ud-train.txt', encoding='utf-8') as f:\n",
    "    lines = f.readlines()\n",
    "ja_word_data = []\n",
    "ja_pos_data = []\n",
    "word_sent = []\n",
    "pos_sent = []\n",
    "for line in lines:\n",
    "    if '#' not in line and line != '\\n':\n",
    "        line = line.replace('\\t', ' ').replace('\\n', '').split(' ')\n",
    "        word_sent.append(line[1])\n",
    "        pos_sent.append(line[3])\n",
    "    elif \"sent_id\" in line:\n",
    "        ja_word_data.append(word_sent)\n",
    "        ja_pos_data.append(pos_sent)\n",
    "        word_sent, pos_sent = [], []\n",
    "tmp = []\n",
    "for line in ja_word_data:\n",
    "    if line != []:\n",
    "        tmp.append(line)\n",
    "ja_word_data = tmp\n",
    "tmp = []\n",
    "for line in ja_pos_data:\n",
    "    if line != []:\n",
    "        tmp.append(line)\n",
    "ja_pos_data = tmp"
   ]
  },
  {
   "cell_type": "markdown",
   "metadata": {},
   "source": [
    "Testing data:"
   ]
  },
  {
   "cell_type": "code",
   "execution_count": 221,
   "metadata": {},
   "outputs": [],
   "source": [
    "with open('UDjaPOS/ja_gsd-ud-test.txt', encoding='utf-8') as f:\n",
    "    lines = f.readlines()\n",
    "ja_word_test = []\n",
    "ja_pos_test = []\n",
    "word_sent = []\n",
    "pos_sent = []\n",
    "for line in lines:\n",
    "    if '#' not in line and line != '\\n':\n",
    "        line = line.replace('\\t', ' ').replace('\\n', '').split(' ')\n",
    "        word_sent.append(line[1])\n",
    "        pos_sent.append(line[3])\n",
    "    elif \"sent_id\" in line:\n",
    "        ja_word_test.append(word_sent)\n",
    "        ja_pos_test.append(pos_sent)\n",
    "        word_sent, pos_sent = [], []\n",
    "tmp = []\n",
    "for line in ja_word_test:\n",
    "    if line != []:\n",
    "        tmp.append(line)\n",
    "ja_word_test = tmp\n",
    "tmp = []\n",
    "for line in ja_pos_test:\n",
    "    if line != []:\n",
    "        tmp.append(line)\n",
    "ja_pos_test = tmp"
   ]
  },
  {
   "cell_type": "markdown",
   "metadata": {},
   "source": [
    "Validation data:"
   ]
  },
  {
   "cell_type": "code",
   "execution_count": 222,
   "metadata": {},
   "outputs": [],
   "source": [
    "with open('UDjaPOS/ja_gsd-ud-dev.txt', encoding='utf-8') as f:\n",
    "    lines = f.readlines()\n",
    "ja_word_dev = []\n",
    "ja_pos_dev = []\n",
    "word_sent = []\n",
    "pos_sent = []\n",
    "for line in lines:\n",
    "    if '#' not in line and line != '\\n':\n",
    "        line = line.replace('\\t', ' ').replace('\\n', '').split(' ')\n",
    "        word_sent.append(line[1])\n",
    "        pos_sent.append(line[3])\n",
    "    elif \"sent_id\" in line:\n",
    "        ja_word_dev.append(word_sent)\n",
    "        ja_pos_dev.append(pos_sent)\n",
    "        word_sent, pos_sent = [], []\n",
    "tmp = []\n",
    "for line in ja_word_dev:\n",
    "    if line != []:\n",
    "        tmp.append(line)\n",
    "ja_word_dev = tmp\n",
    "tmp = []\n",
    "for line in ja_pos_dev:\n",
    "    if line != []:\n",
    "        tmp.append(line)\n",
    "ja_pos_dev = tmp"
   ]
  },
  {
   "cell_type": "markdown",
   "metadata": {},
   "source": [
    "Vocabulary:"
   ]
  },
  {
   "cell_type": "code",
   "execution_count": 234,
   "metadata": {},
   "outputs": [],
   "source": [
    "ja_voc = list(set([word for line in ja_word_data for word in line])) + [PAD] + [UNK]\n",
    "ja_pos_voc = list(set([tag for line in ja_pos_data for tag in line])) + [PAD] + [UNK]\n",
    "ja_w2i = {word: idx for idx, word in enumerate(ja_voc)}\n",
    "ja_pos2i = {tag: idx for idx, tag in enumerate(ja_pos_voc)}"
   ]
  },
  {
   "cell_type": "markdown",
   "metadata": {},
   "source": [
    "### Model Training"
   ]
  },
  {
   "cell_type": "code",
   "execution_count": 236,
   "metadata": {},
   "outputs": [],
   "source": [
    "# Hyperparameter\n",
    "embedding_dim = 100\n",
    "hidden_size = 100\n",
    "num_layers = 2\n",
    "learning_rate = 0.001\n",
    "num_epoch = 50\n",
    "batch_size = 32\n",
    "use_cuda = True\n",
    "word2idx = ja_w2i\n",
    "tag2idx = ja_pos2i\n",
    "vocab_size = len(ja_voc)\n",
    "out_dim = len(ja_pos_voc)"
   ]
  },
  {
   "cell_type": "code",
   "execution_count": 237,
   "metadata": {},
   "outputs": [
    {
     "name": "stdout",
     "output_type": "stream",
     "text": [
      "Epoch: 1/50. Total Loss: 175.774. Dev Acc: 83.98%.\n",
      "Epoch: 2/50. Total Loss: 134.665. Dev Acc: 87.38%.\n",
      "Epoch: 3/50. Total Loss: 111.396. Dev Acc: 88.50%.\n",
      "Epoch: 4/50. Total Loss: 91.170. Dev Acc: 89.55%.\n",
      "Epoch: 5/50. Total Loss: 73.588. Dev Acc: 89.84%.\n",
      "Epoch: 6/50. Total Loss: 58.703. Dev Acc: 90.42%.\n",
      "Epoch: 7/50. Total Loss: 46.596. Dev Acc: 90.79%.\n",
      "Epoch: 8/50. Total Loss: 37.010. Dev Acc: 91.29%.\n",
      "Epoch: 9/50. Total Loss: 29.481. Dev Acc: 91.56%.\n",
      "Epoch: 10/50. Total Loss: 23.634. Dev Acc: 91.96%.\n",
      "Epoch: 11/50. Total Loss: 19.155. Dev Acc: 92.23%.\n",
      "Early Stop!\n"
     ]
    }
   ],
   "source": [
    "biLSTM = RNNPOS(vocab_size, embedding_dim, hidden_size, num_layers, False,\n",
    "               True, out_dim, word2idx, dropout_rate=0.2).to(device)\n",
    "optimizer = torch.optim.Adam(biLSTM.parameters(), lr=learning_rate)\n",
    "best_acc = 0\n",
    "for epoch in range(num_epoch):\n",
    "    total_loss = 0.\n",
    "    for sentences, tags in batchify(ja_word_data, ja_pos_data, batch_size, word2idx, tag2idx, use_cuda):\n",
    "        optimizer.zero_grad()\n",
    "        loss = biLSTM.compute_loss(sentences, tags)\n",
    "        loss.backward()\n",
    "        optimizer.step()\n",
    "        total_loss += loss.item()\n",
    "    dev_acc = eva(biLSTM, ja_word_dev, ja_pos_dev, ja_w2i, ja_pos2i, use_cuda)\n",
    "    if dev_acc >= best_acc:\n",
    "        best_acc = dev_acc\n",
    "        torch.save(biLSTM.state_dict(), 'jabiLSTM.pt')\n",
    "        print(f\"Epoch: {epoch+1}/{num_epoch}. Total Loss: {total_loss:.3f}. Dev Acc: {dev_acc:.2%}.\")\n",
    "    else:\n",
    "        print(\"Early Stop!\")\n",
    "        break"
   ]
  },
  {
   "cell_type": "markdown",
   "metadata": {},
   "source": [
    "### Model Testing"
   ]
  },
  {
   "cell_type": "code",
   "execution_count": 238,
   "metadata": {},
   "outputs": [
    {
     "name": "stdout",
     "output_type": "stream",
     "text": [
      "Test Set Accuracy: 90.895%\n"
     ]
    }
   ],
   "source": [
    "test_acc = eva(biLSTM, ja_word_test, ja_pos_test, ja_w2i, ja_pos2i, use_cuda)\n",
    "print(f\"Test Set Accuracy: {test_acc:.3%}\")"
   ]
  },
  {
   "cell_type": "markdown",
   "metadata": {},
   "source": [
    "## Korean POS Data Experiment"
   ]
  },
  {
   "cell_type": "markdown",
   "metadata": {},
   "source": [
    "### Korean POS Data Loading"
   ]
  },
  {
   "cell_type": "markdown",
   "metadata": {},
   "source": [
    "Training data:"
   ]
  },
  {
   "cell_type": "code",
   "execution_count": 239,
   "metadata": {},
   "outputs": [],
   "source": [
    "with open('UDkoPOS/ko_gsd-ud-train.txt', encoding='utf-8') as f:\n",
    "    lines = f.readlines()\n",
    "ko_word_data = []\n",
    "ko_pos_data = []\n",
    "word_sent = []\n",
    "pos_sent = []\n",
    "for line in lines:\n",
    "    if '#' not in line and line != '\\n':\n",
    "        line = line.replace('\\t', ' ').replace('\\n', '').split(' ')\n",
    "        word_sent.append(line[1])\n",
    "        pos_sent.append(line[3])\n",
    "    elif \"sent_id\" in line:\n",
    "        ko_word_data.append(word_sent)\n",
    "        ko_pos_data.append(pos_sent)\n",
    "        word_sent, pos_sent = [], []\n",
    "tmp = []\n",
    "for line in ko_word_data:\n",
    "    if line != []:\n",
    "        tmp.append(line)\n",
    "ko_word_data = tmp\n",
    "tmp = []\n",
    "for line in ko_pos_data:\n",
    "    if line != []:\n",
    "        tmp.append(line)\n",
    "ko_pos_data = tmp"
   ]
  },
  {
   "cell_type": "markdown",
   "metadata": {},
   "source": [
    "Testing data:"
   ]
  },
  {
   "cell_type": "code",
   "execution_count": 241,
   "metadata": {},
   "outputs": [],
   "source": [
    "with open('UDkoPOS/ko_gsd-ud-test.txt', encoding='utf-8') as f:\n",
    "    lines = f.readlines()\n",
    "ko_word_test = []\n",
    "ko_pos_test = []\n",
    "word_sent = []\n",
    "pos_sent = []\n",
    "for line in lines:\n",
    "    if '#' not in line and line != '\\n':\n",
    "        line = line.replace('\\t', ' ').replace('\\n', '').split(' ')\n",
    "        word_sent.append(line[1])\n",
    "        pos_sent.append(line[3])\n",
    "    elif \"sent_id\" in line:\n",
    "        ko_word_test.append(word_sent)\n",
    "        ko_pos_test.append(pos_sent)\n",
    "        word_sent, pos_sent = [], []\n",
    "tmp = []\n",
    "for line in ko_word_test:\n",
    "    if line != []:\n",
    "        tmp.append(line)\n",
    "ko_word_test = tmp\n",
    "tmp = []\n",
    "for line in ko_pos_test:\n",
    "    if line != []:\n",
    "        tmp.append(line)\n",
    "ko_pos_test = tmp"
   ]
  },
  {
   "cell_type": "markdown",
   "metadata": {},
   "source": [
    "Validation data:"
   ]
  },
  {
   "cell_type": "code",
   "execution_count": 242,
   "metadata": {},
   "outputs": [],
   "source": [
    "with open('UDkoPOS/ko_gsd-ud-dev.txt', encoding='utf-8') as f:\n",
    "    lines = f.readlines()\n",
    "ko_word_dev = []\n",
    "ko_pos_dev = []\n",
    "word_sent = []\n",
    "pos_sent = []\n",
    "for line in lines:\n",
    "    if '#' not in line and line != '\\n':\n",
    "        line = line.replace('\\t', ' ').replace('\\n', '').split(' ')\n",
    "        word_sent.append(line[1])\n",
    "        pos_sent.append(line[3])\n",
    "    elif \"sent_id\" in line:\n",
    "        ko_word_dev.append(word_sent)\n",
    "        ko_pos_dev.append(pos_sent)\n",
    "        word_sent, pos_sent = [], []\n",
    "tmp = []\n",
    "for line in ko_word_dev:\n",
    "    if line != []:\n",
    "        tmp.append(line)\n",
    "ko_word_dev = tmp\n",
    "tmp = []\n",
    "for line in ko_pos_dev:\n",
    "    if line != []:\n",
    "        tmp.append(line)\n",
    "ko_pos_dev = tmp"
   ]
  },
  {
   "cell_type": "markdown",
   "metadata": {},
   "source": [
    "Vocabulary:"
   ]
  },
  {
   "cell_type": "code",
   "execution_count": 243,
   "metadata": {},
   "outputs": [],
   "source": [
    "ko_voc = list(set([word for line in ko_word_data for word in line])) + [PAD] + [UNK]\n",
    "ko_pos_voc = list(set([tag for line in ko_pos_data for tag in line])) + [PAD] + [UNK]\n",
    "ko_w2i = {word: idx for idx, word in enumerate(ko_voc)}\n",
    "ko_pos2i = {tag: idx for idx, tag in enumerate(ko_pos_voc)}"
   ]
  },
  {
   "cell_type": "markdown",
   "metadata": {},
   "source": [
    "### Model Training"
   ]
  },
  {
   "cell_type": "code",
   "execution_count": 244,
   "metadata": {},
   "outputs": [],
   "source": [
    "# Hyperparameter\n",
    "embedding_dim = 100\n",
    "hidden_size = 100\n",
    "num_layers = 2\n",
    "learning_rate = 0.001\n",
    "num_epoch = 50\n",
    "batch_size = 32\n",
    "use_cuda = True\n",
    "word2idx = ko_w2i\n",
    "tag2idx = ko_pos2i\n",
    "vocab_size = len(ko_voc)\n",
    "out_dim = len(ko_pos_voc)"
   ]
  },
  {
   "cell_type": "code",
   "execution_count": 246,
   "metadata": {},
   "outputs": [
    {
     "name": "stdout",
     "output_type": "stream",
     "text": [
      "Epoch: 1/50. Total Loss: 110.084. Dev Acc: 58.53%.\n",
      "Epoch: 2/50. Total Loss: 95.124. Dev Acc: 62.50%.\n",
      "Epoch: 3/50. Total Loss: 84.601. Dev Acc: 65.94%.\n",
      "Epoch: 4/50. Total Loss: 74.557. Dev Acc: 69.60%.\n",
      "Epoch: 5/50. Total Loss: 65.203. Dev Acc: 71.54%.\n",
      "Epoch: 6/50. Total Loss: 56.553. Dev Acc: 72.01%.\n",
      "Epoch: 7/50. Total Loss: 48.740. Dev Acc: 73.78%.\n",
      "Epoch: 8/50. Total Loss: 42.114. Dev Acc: 74.54%.\n",
      "Early Stop!\n"
     ]
    }
   ],
   "source": [
    "biLSTM = RNNPOS(vocab_size, embedding_dim, hidden_size, num_layers, False,\n",
    "               True, out_dim, word2idx, dropout_rate=0.2).to(device)\n",
    "optimizer = torch.optim.Adam(biLSTM.parameters(), lr=learning_rate)\n",
    "best_acc = 0\n",
    "for epoch in range(num_epoch):\n",
    "    total_loss = 0.\n",
    "    for sentences, tags in batchify(ko_word_data, ko_pos_data, batch_size, word2idx, tag2idx, use_cuda):\n",
    "        optimizer.zero_grad()\n",
    "        loss = biLSTM.compute_loss(sentences, tags)\n",
    "        loss.backward()\n",
    "        optimizer.step()\n",
    "        total_loss += loss.item()\n",
    "    dev_acc = eva(biLSTM, ko_word_dev, ko_pos_dev, ko_w2i, ko_pos2i, use_cuda)\n",
    "    if dev_acc >= best_acc:\n",
    "        best_acc = dev_acc\n",
    "        torch.save(biLSTM.state_dict(), 'kobiLSTM.pt')\n",
    "        print(f\"Epoch: {epoch+1}/{num_epoch}. Total Loss: {total_loss:.3f}. Dev Acc: {dev_acc:.2%}.\")\n",
    "    else:\n",
    "        print(\"Early Stop!\")\n",
    "        break"
   ]
  },
  {
   "cell_type": "markdown",
   "metadata": {},
   "source": [
    "### Model Testing"
   ]
  },
  {
   "cell_type": "code",
   "execution_count": 247,
   "metadata": {},
   "outputs": [
    {
     "name": "stdout",
     "output_type": "stream",
     "text": [
      "Test Set Accuracy: 76.380%\n"
     ]
    }
   ],
   "source": [
    "test_acc = eva(biLSTM, ko_word_test, ko_pos_test, ko_w2i, ko_pos2i, use_cuda)\n",
    "print(f\"Test Set Accuracy: {test_acc:.3%}\")"
   ]
  },
  {
   "cell_type": "markdown",
   "metadata": {},
   "source": [
    "## Portuguese POS Data Loading"
   ]
  },
  {
   "cell_type": "markdown",
   "metadata": {},
   "source": [
    "### Portuguese POS Data Loading"
   ]
  },
  {
   "cell_type": "markdown",
   "metadata": {},
   "source": [
    "Training data:"
   ]
  },
  {
   "cell_type": "code",
   "execution_count": 267,
   "metadata": {},
   "outputs": [],
   "source": [
    "with open('UDptPOS/pt_gsd-ud-train.txt', encoding='utf-8') as f:\n",
    "    lines = f.readlines()\n",
    "pt_word_data = []\n",
    "pt_pos_data = []\n",
    "word_sent = []\n",
    "pos_sent = []\n",
    "for line in lines:\n",
    "    if '#' not in line and line != '\\n':\n",
    "        line = line.replace('\\t', ' ').replace('\\n', '').split(' ')\n",
    "        word_sent.append(line[1])\n",
    "        pos_sent.append(line[3])\n",
    "    elif \"sent_id\" in line:\n",
    "        pt_word_data.append(word_sent)\n",
    "        pt_pos_data.append(pos_sent)\n",
    "        word_sent, pos_sent = [], []\n",
    "tmp = []\n",
    "for line in pt_word_data:\n",
    "    if line != []:\n",
    "        tmp.append(line)\n",
    "pt_word_data = tmp\n",
    "tmp = []\n",
    "for line in pt_pos_data:\n",
    "    if line != []:\n",
    "        tmp.append(line)\n",
    "pt_pos_data = tmp"
   ]
  },
  {
   "cell_type": "markdown",
   "metadata": {},
   "source": [
    "Testing data:"
   ]
  },
  {
   "cell_type": "code",
   "execution_count": 269,
   "metadata": {},
   "outputs": [],
   "source": [
    "with open('UDptPOS/pt_gsd-ud-test.txt', encoding='utf-8') as f:\n",
    "    lines = f.readlines()\n",
    "pt_word_test = []\n",
    "pt_pos_test = []\n",
    "word_sent = []\n",
    "pos_sent = []\n",
    "for line in lines:\n",
    "    if '#' not in line and line != '\\n':\n",
    "        line = line.replace('\\t', ' ').replace('\\n', '').split(' ')\n",
    "        word_sent.append(line[1])\n",
    "        pos_sent.append(line[3])\n",
    "    elif \"sent_id\" in line:\n",
    "        pt_word_test.append(word_sent)\n",
    "        pt_pos_test.append(pos_sent)\n",
    "        word_sent, pos_sent = [], []\n",
    "tmp = []\n",
    "for line in pt_word_test:\n",
    "    if line != []:\n",
    "        tmp.append(line)\n",
    "pt_word_test = tmp\n",
    "tmp = []\n",
    "for line in pt_pos_test:\n",
    "    if line != []:\n",
    "        tmp.append(line)\n",
    "pt_pos_test = tmp"
   ]
  },
  {
   "cell_type": "markdown",
   "metadata": {},
   "source": [
    "Validation data:"
   ]
  },
  {
   "cell_type": "code",
   "execution_count": 270,
   "metadata": {},
   "outputs": [],
   "source": [
    "with open('UDptPOS/pt_gsd-ud-dev.txt', encoding='utf-8') as f:\n",
    "    lines = f.readlines()\n",
    "pt_word_dev = []\n",
    "pt_pos_dev = []\n",
    "word_sent = []\n",
    "pos_sent = []\n",
    "for line in lines:\n",
    "    if '#' not in line and line != '\\n':\n",
    "        line = line.replace('\\t', ' ').replace('\\n', '').split(' ')\n",
    "        word_sent.append(line[1])\n",
    "        pos_sent.append(line[3])\n",
    "    elif \"sent_id\" in line:\n",
    "        pt_word_dev.append(word_sent)\n",
    "        pt_pos_dev.append(pos_sent)\n",
    "        word_sent, pos_sent = [], []\n",
    "tmp = []\n",
    "for line in pt_word_dev:\n",
    "    if line != []:\n",
    "        tmp.append(line)\n",
    "pt_word_dev = tmp\n",
    "tmp = []\n",
    "for line in pt_pos_dev:\n",
    "    if line != []:\n",
    "        tmp.append(line)\n",
    "pt_pos_dev = tmp"
   ]
  },
  {
   "cell_type": "markdown",
   "metadata": {},
   "source": [
    "Vocabulary:"
   ]
  },
  {
   "cell_type": "code",
   "execution_count": 271,
   "metadata": {},
   "outputs": [],
   "source": [
    "pt_voc = list(set([word for line in pt_word_data for word in line])) + [PAD] + [UNK]\n",
    "pt_pos_voc = list(set([tag for line in pt_pos_data for tag in line])) + [PAD] + [UNK]\n",
    "pt_w2i = {word: idx for idx, word in enumerate(pt_voc)}\n",
    "pt_pos2i = {tag: idx for idx, tag in enumerate(pt_pos_voc)}"
   ]
  },
  {
   "cell_type": "markdown",
   "metadata": {},
   "source": [
    "### Model Training"
   ]
  },
  {
   "cell_type": "code",
   "execution_count": 272,
   "metadata": {},
   "outputs": [],
   "source": [
    "# Hyperparameter\n",
    "embedding_dim = 100\n",
    "hidden_size = 100\n",
    "num_layers = 2\n",
    "learning_rate = 0.001\n",
    "num_epoch = 50\n",
    "batch_size = 32\n",
    "use_cuda = True\n",
    "word2idx = pt_w2i\n",
    "tag2idx = pt_pos2i\n",
    "vocab_size = len(pt_voc)\n",
    "out_dim = len(pt_pos_voc)"
   ]
  },
  {
   "cell_type": "code",
   "execution_count": 275,
   "metadata": {},
   "outputs": [
    {
     "name": "stdout",
     "output_type": "stream",
     "text": [
      "Epoch: 1/50. Total Loss: 235.111. Dev Acc: 83.69%.\n",
      "Epoch: 2/50. Total Loss: 171.075. Dev Acc: 87.62%.\n",
      "Epoch: 3/50. Total Loss: 131.433. Dev Acc: 89.16%.\n",
      "Epoch: 4/50. Total Loss: 99.220. Dev Acc: 90.07%.\n",
      "Epoch: 5/50. Total Loss: 73.962. Dev Acc: 90.39%.\n",
      "Epoch: 6/50. Total Loss: 55.051. Dev Acc: 90.62%.\n",
      "Epoch: 7/50. Total Loss: 41.309. Dev Acc: 90.67%.\n",
      "Early Stop!\n"
     ]
    }
   ],
   "source": [
    "biLSTM = RNNPOS(vocab_size, embedding_dim, hidden_size, num_layers, False,\n",
    "               True, out_dim, word2idx, dropout_rate=0.2).to(device)\n",
    "optimizer = torch.optim.Adam(biLSTM.parameters(), lr=learning_rate)\n",
    "best_acc = 0\n",
    "for epoch in range(num_epoch):\n",
    "    total_loss = 0.\n",
    "    for sentences, tags in batchify(pt_word_data, pt_pos_data, batch_size, word2idx, tag2idx, use_cuda):\n",
    "        optimizer.zero_grad()\n",
    "        loss = biLSTM.compute_loss(sentences, tags)\n",
    "        loss.backward()\n",
    "        optimizer.step()\n",
    "        total_loss += loss.item()\n",
    "    dev_acc = eva(biLSTM, pt_word_dev, pt_pos_dev, pt_w2i, pt_pos2i, use_cuda)\n",
    "    if dev_acc >= best_acc:\n",
    "        best_acc = dev_acc\n",
    "        torch.save(biLSTM.state_dict(), 'ptbiLSTM.pt')\n",
    "        print(f\"Epoch: {epoch+1}/{num_epoch}. Total Loss: {total_loss:.3f}. Dev Acc: {dev_acc:.2%}.\")\n",
    "    else:\n",
    "        print(\"Early Stop!\")\n",
    "        break"
   ]
  },
  {
   "cell_type": "markdown",
   "metadata": {},
   "source": [
    "### Model Testing"
   ]
  },
  {
   "cell_type": "code",
   "execution_count": 276,
   "metadata": {},
   "outputs": [
    {
     "name": "stdout",
     "output_type": "stream",
     "text": [
      "Test Set Accuracy: 90.099%\n"
     ]
    }
   ],
   "source": [
    "test_acc = eva(biLSTM, pt_word_test, pt_pos_test, pt_w2i, pt_pos2i, use_cuda)\n",
    "print(f\"Test Set Accuracy: {test_acc:.3%}\")"
   ]
  },
  {
   "cell_type": "markdown",
   "metadata": {},
   "source": [
    "# Different Languages Comparasion"
   ]
  },
  {
   "cell_type": "markdown",
   "metadata": {},
   "source": [
    "From section, we can find that the accuracies are different for different languages."
   ]
  },
  {
   "cell_type": "code",
   "execution_count": 279,
   "metadata": {},
   "outputs": [
    {
     "data": {
      "text/html": [
       "<div>\n",
       "<style scoped>\n",
       "    .dataframe tbody tr th:only-of-type {\n",
       "        vertical-align: middle;\n",
       "    }\n",
       "\n",
       "    .dataframe tbody tr th {\n",
       "        vertical-align: top;\n",
       "    }\n",
       "\n",
       "    .dataframe thead th {\n",
       "        text-align: right;\n",
       "    }\n",
       "</style>\n",
       "<table border=\"1\" class=\"dataframe\">\n",
       "  <thead>\n",
       "    <tr style=\"text-align: right;\">\n",
       "      <th></th>\n",
       "      <th>Test acc</th>\n",
       "    </tr>\n",
       "  </thead>\n",
       "  <tbody>\n",
       "    <tr>\n",
       "      <th>simplified Chinese</th>\n",
       "      <td>0.78651</td>\n",
       "    </tr>\n",
       "    <tr>\n",
       "      <th>English</th>\n",
       "      <td>0.89013</td>\n",
       "    </tr>\n",
       "    <tr>\n",
       "      <th>Japanese</th>\n",
       "      <td>0.90895</td>\n",
       "    </tr>\n",
       "    <tr>\n",
       "      <th>Korean</th>\n",
       "      <td>0.76380</td>\n",
       "    </tr>\n",
       "    <tr>\n",
       "      <th>Portuguese</th>\n",
       "      <td>0.90099</td>\n",
       "    </tr>\n",
       "  </tbody>\n",
       "</table>\n",
       "</div>"
      ],
      "text/plain": [
       "                    Test acc\n",
       "simplified Chinese   0.78651\n",
       "English              0.89013\n",
       "Japanese             0.90895\n",
       "Korean               0.76380\n",
       "Portuguese           0.90099"
      ]
     },
     "execution_count": 279,
     "metadata": {},
     "output_type": "execute_result"
    }
   ],
   "source": [
    "pd.DataFrame(data=[0.78651, 0.89013, 0.90895, 0.76380, 0.90099],\n",
    "            index=['simplified Chinese', 'English', 'Japanese', 'Korean', 'Portuguese'],\n",
    "            columns=['Test acc'])"
   ]
  }
 ],
 "metadata": {
  "kernelspec": {
   "display_name": "Python 3",
   "language": "python",
   "name": "python3"
  },
  "language_info": {
   "codemirror_mode": {
    "name": "ipython",
    "version": 3
   },
   "file_extension": ".py",
   "mimetype": "text/x-python",
   "name": "python",
   "nbconvert_exporter": "python",
   "pygments_lexer": "ipython3",
   "version": "3.7.3"
  },
  "toc": {
   "base_numbering": 1,
   "nav_menu": {},
   "number_sections": true,
   "sideBar": true,
   "skip_h1_title": false,
   "title_cell": "Table of Contents",
   "title_sidebar": "Contents",
   "toc_cell": false,
   "toc_position": {},
   "toc_section_display": true,
   "toc_window_display": true
  }
 },
 "nbformat": 4,
 "nbformat_minor": 2
}
